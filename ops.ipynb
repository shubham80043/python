{
 "cells": [
  {
   "cell_type": "code",
   "execution_count": 30,
   "metadata": {},
   "outputs": [
    {
     "name": "stdout",
     "output_type": "stream",
     "text": [
      "s h u b h a m   s i n g h "
     ]
    }
   ],
   "source": [
    "x='shubham singh'\n",
    "for char in x:\n",
    " print(char,end=\" \")"
   ]
  },
  {
   "cell_type": "code",
   "execution_count": 31,
   "metadata": {},
   "outputs": [
    {
     "name": "stdout",
     "output_type": "stream",
     "text": [
      "i dreamed to buy audi,lexus,ferrari,bmw "
     ]
    }
   ],
   "source": [
    "brand=['audi,lexus,ferrari,bmw']\n",
    "for cars in brand:\n",
    "    print(f'i dreamed to buy {cars}',end=\" \")"
   ]
  },
  {
   "cell_type": "code",
   "execution_count": 32,
   "metadata": {},
   "outputs": [
    {
     "name": "stdout",
     "output_type": "stream",
     "text": [
      "0 1 2 3 4 5 6 7 8 9 10 11 12 13 14 15 16 17 18 19 20 21 22 23 24 25 26 27 28 29 30 31 32 33 34 35 36 37 38 39 40 41 42 43 44 45 46 47 48 49 50 51 52 53 54 55 56 57 58 59 60 61 62 63 64 65 66 67 68 69 70 71 72 73 74 75 76 77 78 79 80 81 "
     ]
    }
   ],
   "source": [
    "# range with start value\n",
    "for i in range(82):\n",
    "    print(i,end=' ')"
   ]
  },
  {
   "cell_type": "code",
   "execution_count": 33,
   "metadata": {},
   "outputs": [
    {
     "name": "stdout",
     "output_type": "stream",
     "text": [
      "6 7 8 9 10 11 12 13 14 15 16 17 18 19 20 21 22 23 24 25 26 27 28 29 30 31 32 33 34 35 36 37 38 39 40 41 42 43 44 45 46 47 48 49 50 51 52 53 54 55 "
     ]
    }
   ],
   "source": [
    "# range with start and end value\n",
    "for i in range(6,56):\n",
    "    print(i,end=' ')"
   ]
  },
  {
   "cell_type": "code",
   "execution_count": 34,
   "metadata": {},
   "outputs": [
    {
     "name": "stdout",
     "output_type": "stream",
     "text": [
      "2 5 8 11 14 17 20 23 "
     ]
    }
   ],
   "source": [
    "# range with start,stop and gap value\n",
    "for i in range(2,24,3):\n",
    "    print(i,end=' ')"
   ]
  },
  {
   "cell_type": "code",
   "execution_count": 35,
   "metadata": {},
   "outputs": [
    {
     "name": "stdout",
     "output_type": "stream",
     "text": [
      "50 48 46 44 42 40 38 36 34 32 30 28 26 24 22 20 18 16 14 "
     ]
    }
   ],
   "source": [
    "# reverse for loop\n",
    "for i in range(50,12,-2):\n",
    "    print(i,end=' ')"
   ]
  },
  {
   "cell_type": "code",
   "execution_count": 36,
   "metadata": {},
   "outputs": [
    {
     "name": "stdout",
     "output_type": "stream",
     "text": [
      "\n",
      "$\n",
      "$$\n",
      "$$$\n",
      "$$$$\n",
      "$$$$$\n",
      "$$$$$$\n",
      "$$$$$$$\n",
      "$$$$$$$$\n",
      "$$$$$$$$$\n",
      "$$$$$$$$$$\n",
      "$$$$$$$$$$$\n"
     ]
    }
   ],
   "source": [
    "for i in range(0,12):\n",
    "    print(i*\"$\")"
   ]
  },
  {
   "cell_type": "code",
   "execution_count": 37,
   "metadata": {},
   "outputs": [
    {
     "name": "stdout",
     "output_type": "stream",
     "text": [
      "@@@@@@@@@@@@\n",
      "@@@@@@@@@@@\n",
      "@@@@@@@@@@\n",
      "@@@@@@@@@\n",
      "@@@@@@@@\n",
      "@@@@@@@\n",
      "@@@@@@\n",
      "@@@@@\n",
      "@@@@\n",
      "@@@\n",
      "@@\n",
      "@\n"
     ]
    }
   ],
   "source": [
    "for i in range(12,0,-1):\n",
    "    print(i*'@')"
   ]
  },
  {
   "cell_type": "code",
   "execution_count": null,
   "metadata": {},
   "outputs": [],
   "source": [
    "## for loop supporting functions\n",
    "-enumerate->it helps to give the index value of every item in a sequence\n",
    "-zip->provide a simple way to mix 2 or more sequence in a single loop"
   ]
  },
  {
   "cell_type": "code",
   "execution_count": null,
   "metadata": {},
   "outputs": [
    {
     "name": "stdout",
     "output_type": "stream",
     "text": [
      "0]11\n",
      "1]12\n",
      "2]13\n",
      "3]14\n",
      "4]15\n"
     ]
    }
   ],
   "source": [
    "number=[11,12,13,14,15]\n",
    "for idx,num in enumerate(number):\n",
    "    print(f'{idx}]{num}')"
   ]
  },
  {
   "cell_type": "code",
   "execution_count": null,
   "metadata": {},
   "outputs": [
    {
     "name": "stdout",
     "output_type": "stream",
     "text": [
      "0]shubh\n",
      "1]annu\n",
      "2]anamika\n"
     ]
    }
   ],
   "source": [
    "names=['shubh','annu','anamika']\n",
    "for idx,name in enumerate(names):\n",
    "    print(f'{idx}]{name}')"
   ]
  },
  {
   "cell_type": "code",
   "execution_count": null,
   "metadata": {},
   "outputs": [
    {
     "name": "stdout",
     "output_type": "stream",
     "text": [
      "0]shubh and anamika are good frnds\n"
     ]
    }
   ],
   "source": [
    "names=['shubh and anamika are good frnds']\n",
    "for i,v in enumerate(names):\n",
    "    print(f'{idx}]{name}')"
   ]
  },
  {
   "cell_type": "code",
   "execution_count": null,
   "metadata": {},
   "outputs": [
    {
     "name": "stdout",
     "output_type": "stream",
     "text": [
      "i want to earn in -\n"
     ]
    }
   ],
   "source": [
    "#string\n",
    "msg='i want to earn in $'\n",
    "print(msg.replace('$','-'))"
   ]
  },
  {
   "cell_type": "code",
   "execution_count": null,
   "metadata": {},
   "outputs": [
    {
     "name": "stdout",
     "output_type": "stream",
     "text": [
      " wnt t rn n $\n"
     ]
    }
   ],
   "source": [
    "msg='i want to earn in $'\n",
    "for v in \"aeiouAEIOU\":\n",
    "    msg=msg.replace(v,'')\n",
    "print(msg)"
   ]
  },
  {
   "cell_type": "code",
   "execution_count": null,
   "metadata": {},
   "outputs": [
    {
     "name": "stdout",
     "output_type": "stream",
     "text": [
      "i want to earn in dollar\n"
     ]
    }
   ],
   "source": [
    "msg='i want to earn in $'\n",
    "print(msg.replace('$','dollar'))"
   ]
  },
  {
   "cell_type": "code",
   "execution_count": null,
   "metadata": {},
   "outputs": [],
   "source": [
    "#count sub sequence\n"
   ]
  },
  {
   "cell_type": "code",
   "execution_count": null,
   "metadata": {},
   "outputs": [
    {
     "data": {
      "text/plain": [
       "2"
      ]
     },
     "execution_count": 7,
     "metadata": {},
     "output_type": "execute_result"
    }
   ],
   "source": [
    "msg='i want to earn in $'\n",
    "msg.count('i')\n"
   ]
  },
  {
   "cell_type": "code",
   "execution_count": null,
   "metadata": {},
   "outputs": [
    {
     "data": {
      "text/plain": [
       "True"
      ]
     },
     "execution_count": 9,
     "metadata": {},
     "output_type": "execute_result"
    }
   ],
   "source": [
    "msg='i want to earn in $'\n",
    "msg.startswith('i')"
   ]
  },
  {
   "cell_type": "code",
   "execution_count": null,
   "metadata": {},
   "outputs": [
    {
     "data": {
      "text/plain": [
       "False"
      ]
     },
     "execution_count": 10,
     "metadata": {},
     "output_type": "execute_result"
    }
   ],
   "source": [
    "msg='i want to earn in $'\n",
    "msg.startswith('want')"
   ]
  },
  {
   "cell_type": "code",
   "execution_count": null,
   "metadata": {},
   "outputs": [
    {
     "data": {
      "text/plain": [
       "False"
      ]
     },
     "execution_count": 11,
     "metadata": {},
     "output_type": "execute_result"
    }
   ],
   "source": [
    "msg='i want to earn in $'\n",
    "msg.endswith('i')"
   ]
  },
  {
   "cell_type": "code",
   "execution_count": null,
   "metadata": {},
   "outputs": [
    {
     "data": {
      "text/plain": [
       "True"
      ]
     },
     "execution_count": 12,
     "metadata": {},
     "output_type": "execute_result"
    }
   ],
   "source": [
    "msg='i want to earn in $'\n",
    "msg.endswith('$')"
   ]
  },
  {
   "cell_type": "code",
   "execution_count": 50,
   "metadata": {},
   "outputs": [
    {
     "name": "stdout",
     "output_type": "stream",
     "text": [
      "mrs.white\n",
      "mr.peacock\n",
      "mrs.plum\n",
      "mr.green\n",
      "mrs.green\n"
     ]
    }
   ],
   "source": [
    "guests_names=['mrs.white','mr.peacock','mrs.plum','col.mustard','prof.plum','mr.green','mrs.green']\n",
    "for name in guests_names:\n",
    "    if name.startswith('mr.') or name.startswith('mrs.'):\n",
    "         print(name)\n",
    "\n",
    "   "
   ]
  },
  {
   "cell_type": "code",
   "execution_count": 54,
   "metadata": {},
   "outputs": [
    {
     "name": "stdout",
     "output_type": "stream",
     "text": [
      "to 2\n",
      "of 0\n",
      "in 1\n",
      "for 0\n",
      "by 0\n"
     ]
    }
   ],
   "source": [
    "bigtext='life is to love not to destroy.i lake watching anime'\n",
    "stopwords=['to','of','in','for','by']\n",
    "for word in stopwords:\n",
    "    print(word,bigtext.count(word))\n",
    "    "
   ]
  },
  {
   "cell_type": "code",
   "execution_count": 59,
   "metadata": {},
   "outputs": [
    {
     "name": "stdout",
     "output_type": "stream",
     "text": [
      "your value is alphabet\n"
     ]
    }
   ],
   "source": [
    "value=input('enter a value:')\n",
    "if value.isnumeric():\n",
    "    print(\"your value is numeric\")\n",
    "elif value.isalpha():\n",
    "    print(\"your value is alphabet\")\n",
    "elif value.isalnum():  \n",
    "    print(\"your value is alphanumeric\")\n",
    "elif value.isspace():   \n",
    "    print(\"your value is space only\")   \n",
    "else:\n",
    "     print(\"your value is specialcharacter\")   "
   ]
  },
  {
   "cell_type": "code",
   "execution_count": 14,
   "metadata": {},
   "outputs": [
    {
     "name": "stdout",
     "output_type": "stream",
     "text": [
      "0h\n",
      "1e\n",
      "2l\n",
      "3l\n",
      "4o\n",
      "5 \n",
      "6e\n",
      "7v\n",
      "8e\n",
      "9r\n",
      "10y\n",
      "11 \n",
      "12o\n",
      "13n\n",
      "14e\n",
      "15,\n",
      "16t\n",
      "17o\n",
      "18d\n",
      "19a\n",
      "20y\n",
      "21 \n",
      "22w\n",
      "23e\n",
      "24 \n",
      "25a\n",
      "26r\n",
      "27e\n",
      "28 \n",
      "29g\n",
      "30o\n",
      "31n\n",
      "32n\n",
      "33a\n",
      "34 \n",
      "35s\n",
      "36e\n",
      "37e\n",
      "38 \n",
      "39f\n",
      "40e\n",
      "41w\n",
      "42 \n",
      "43e\n",
      "44x\n",
      "45t\n",
      "46r\n",
      "47a\n",
      "48o\n",
      "49r\n",
      "50d\n",
      "51i\n",
      "52n\n",
      "53a\n",
      "54r\n",
      "55y\n",
      "56 \n",
      "57s\n",
      "58k\n",
      "59i\n",
      "60l\n",
      "61l\n",
      "62s\n"
     ]
    }
   ],
   "source": [
    "msg='hello every one,today we are gonna see few extraordinary skills'\n",
    "for idx,word in enumerate(msg):\n",
    "    print(f'{idx}{word}')"
   ]
  },
  {
   "cell_type": "code",
   "execution_count": null,
   "metadata": {},
   "outputs": [],
   "source": [
    "#can any variable be solved by putting it in string?\n",
    "ans=yes"
   ]
  },
  {
   "cell_type": "code",
   "execution_count": 64,
   "metadata": {},
   "outputs": [
    {
     "name": "stdout",
     "output_type": "stream",
     "text": [
      "x*y-y*x 0\n"
     ]
    }
   ],
   "source": [
    "x=10\n",
    "y=20\n",
    "eq=input('enter an equation using x and y')\n",
    "print(eq,eval(eq))"
   ]
  },
  {
   "cell_type": "code",
   "execution_count": null,
   "metadata": {},
   "outputs": [],
   "source": [
    "#data structure\n",
    "-list\n",
    "-tuple\n",
    "-set\n",
    "-dictionary"
   ]
  },
  {
   "cell_type": "code",
   "execution_count": null,
   "metadata": {},
   "outputs": [],
   "source": [
    "##list\n",
    "indexed,ordered,heterogenous data structure and is mutable and can contain duplicate value"
   ]
  },
  {
   "cell_type": "code",
   "execution_count": null,
   "metadata": {},
   "outputs": [],
   "source": [
    "##task\n",
    "*creation\n",
    "*indexing and slicing\n",
    "*functions\n",
    "*other stuff\n"
   ]
  },
  {
   "cell_type": "code",
   "execution_count": 2,
   "metadata": {},
   "outputs": [
    {
     "name": "stdout",
     "output_type": "stream",
     "text": [
      "[1, 2, 3, 4, 5, 6]\n",
      "<class 'list'>\n"
     ]
    }
   ],
   "source": [
    "a=[1,2,3,4,5,6]\n",
    "print(a)\n",
    "print(type(a))"
   ]
  },
  {
   "cell_type": "code",
   "execution_count": 4,
   "metadata": {},
   "outputs": [
    {
     "data": {
      "text/plain": [
       "['s', 'h', 'u', 'b', 'h', 'a', 'm', ' ', 's', 'i', 'n', 'g', 'h']"
      ]
     },
     "execution_count": 4,
     "metadata": {},
     "output_type": "execute_result"
    }
   ],
   "source": [
    "name='shubham singh'\n",
    "chars=list(name)\n",
    "chars"
   ]
  },
  {
   "cell_type": "code",
   "execution_count": 5,
   "metadata": {},
   "outputs": [
    {
     "data": {
      "text/plain": [
       "['journey', 'to', 'the', 'west']"
      ]
     },
     "execution_count": 5,
     "metadata": {},
     "output_type": "execute_result"
    }
   ],
   "source": [
    "msg=\"journey to the west\"\n",
    "words=msg.split()\n",
    "words"
   ]
  },
  {
   "cell_type": "code",
   "execution_count": 7,
   "metadata": {},
   "outputs": [
    {
     "name": "stdout",
     "output_type": "stream",
     "text": [
      "[1, 2, 3]\n"
     ]
    }
   ],
   "source": [
    "a=1\n",
    "b=2\n",
    "c=3\n",
    "l1=[a,b,c]\n",
    "print(l1)"
   ]
  },
  {
   "cell_type": "code",
   "execution_count": 8,
   "metadata": {},
   "outputs": [
    {
     "name": "stdout",
     "output_type": "stream",
     "text": [
      "[10, 10, 10, 10, 10, 10]\n"
     ]
    }
   ],
   "source": [
    "#clone content in a list\n",
    "x=10\n",
    "xlist=[x]*6\n",
    "print(xlist)"
   ]
  },
  {
   "cell_type": "code",
   "execution_count": 10,
   "metadata": {},
   "outputs": [
    {
     "name": "stdout",
     "output_type": "stream",
     "text": [
      "s\n",
      "h\n",
      "g\n",
      "h\n"
     ]
    }
   ],
   "source": [
    "chars\n",
    "print(chars[0])\n",
    "print(chars[-1])\n",
    "print(chars[-2])\n",
    "print(chars[1])"
   ]
  },
  {
   "cell_type": "code",
   "execution_count": 12,
   "metadata": {},
   "outputs": [
    {
     "data": {
      "text/plain": [
       "['s', 'h', 'u', 'b', 'h', 'h', 'm', ' ', 's', 'i', 'n', 'g', 'h']"
      ]
     },
     "execution_count": 12,
     "metadata": {},
     "output_type": "execute_result"
    }
   ],
   "source": [
    "chars[5]='h'\n",
    "chars"
   ]
  },
  {
   "cell_type": "code",
   "execution_count": 13,
   "metadata": {},
   "outputs": [],
   "source": [
    "n1=[1,2,3,4,5,6,7,8,9,10]\n"
   ]
  },
  {
   "cell_type": "code",
   "execution_count": 14,
   "metadata": {},
   "outputs": [
    {
     "data": {
      "text/plain": [
       "[1, 2, 3, 4, 5]"
      ]
     },
     "execution_count": 14,
     "metadata": {},
     "output_type": "execute_result"
    }
   ],
   "source": [
    "n1[:5]"
   ]
  },
  {
   "cell_type": "code",
   "execution_count": 15,
   "metadata": {},
   "outputs": [
    {
     "data": {
      "text/plain": [
       "[6, 7, 8, 9, 10]"
      ]
     },
     "execution_count": 15,
     "metadata": {},
     "output_type": "execute_result"
    }
   ],
   "source": [
    "n1[-5:]"
   ]
  },
  {
   "cell_type": "code",
   "execution_count": 16,
   "metadata": {},
   "outputs": [
    {
     "data": {
      "text/plain": [
       "[4, 5, 6, 7]"
      ]
     },
     "execution_count": 16,
     "metadata": {},
     "output_type": "execute_result"
    }
   ],
   "source": [
    "n1[3:-3]"
   ]
  },
  {
   "cell_type": "code",
   "execution_count": 17,
   "metadata": {},
   "outputs": [
    {
     "name": "stdout",
     "output_type": "stream",
     "text": [
      "12345678910"
     ]
    }
   ],
   "source": [
    "for i in n1:\n",
    "    print(i,end='')\n"
   ]
  },
  {
   "cell_type": "code",
   "execution_count": 18,
   "metadata": {},
   "outputs": [
    {
     "name": "stdout",
     "output_type": "stream",
     "text": [
      "[[1, 2, 3], [1, 2, 3, 4], [3, 4, 5]]\n",
      "[1, 2, 3]\n",
      "[1, 2, 3, 4]\n",
      "[3, 4, 5]\n"
     ]
    }
   ],
   "source": [
    "x=[[1,2,3],[1,2,3,4],[3,4,5]]\n",
    "print(x)\n",
    "for item in x:\n",
    "    print(item)"
   ]
  },
  {
   "cell_type": "code",
   "execution_count": 19,
   "metadata": {},
   "outputs": [
    {
     "name": "stdout",
     "output_type": "stream",
     "text": [
      "1\n",
      "2\n",
      "3\n",
      "1\n",
      "2\n",
      "3\n",
      "4\n",
      "3\n",
      "4\n",
      "5\n"
     ]
    }
   ],
   "source": [
    "for sublist in x:\n",
    "    for i in sublist:\n",
    "        print(i)"
   ]
  },
  {
   "cell_type": "markdown",
   "metadata": {},
   "source": [
    "functions\n"
   ]
  },
  {
   "cell_type": "code",
   "execution_count": 20,
   "metadata": {},
   "outputs": [],
   "source": [
    "x=[]#empty list\n",
    "y=[1,2,3]"
   ]
  },
  {
   "cell_type": "code",
   "execution_count": 22,
   "metadata": {},
   "outputs": [
    {
     "name": "stdout",
     "output_type": "stream",
     "text": [
      "[12, 12, 15, 13, 14, 88, 74]\n"
     ]
    }
   ],
   "source": [
    "x.append(12)\n",
    "x.append(15)\n",
    "x.append(13)\n",
    "x.append(14)\n",
    "x.append(88)\n",
    "x.append(74)\n",
    "print(x)"
   ]
  },
  {
   "cell_type": "code",
   "execution_count": 23,
   "metadata": {},
   "outputs": [
    {
     "name": "stdout",
     "output_type": "stream",
     "text": [
      "[12, 12, 22, 15, 13, 14, 88, 74]\n"
     ]
    }
   ],
   "source": [
    "x.insert(2,22)\n",
    "print(x)"
   ]
  },
  {
   "cell_type": "code",
   "execution_count": 25,
   "metadata": {},
   "outputs": [
    {
     "name": "stdout",
     "output_type": "stream",
     "text": [
      "[12, 12, 'cool', 22, 15, 13, 14, 88, 74]\n"
     ]
    }
   ],
   "source": [
    "x.insert(2,'cool')\n",
    "print(x)"
   ]
  },
  {
   "cell_type": "code",
   "execution_count": 26,
   "metadata": {},
   "outputs": [
    {
     "name": "stdout",
     "output_type": "stream",
     "text": [
      "[12, 12, 'cool', 22, 15, 13, 14, 88, 74, 1, 2, 3]\n"
     ]
    }
   ],
   "source": [
    "x.extend(y)\n",
    "print(x)"
   ]
  },
  {
   "cell_type": "code",
   "execution_count": 40,
   "metadata": {},
   "outputs": [
    {
     "data": {
      "text/plain": [
       "[12, 12, 22, 13, 14, 88, 74, 1, 2, 3]"
      ]
     },
     "execution_count": 40,
     "metadata": {},
     "output_type": "execute_result"
    }
   ],
   "source": [
    "x"
   ]
  },
  {
   "cell_type": "code",
   "execution_count": 46,
   "metadata": {},
   "outputs": [
    {
     "data": {
      "text/plain": [
       "[12, 22, 13, 14, 88, 74, 1, 2, 3]"
      ]
     },
     "execution_count": 46,
     "metadata": {},
     "output_type": "execute_result"
    }
   ],
   "source": [
    "x.remove(12)\n",
    "x"
   ]
  },
  {
   "cell_type": "code",
   "execution_count": 37,
   "metadata": {},
   "outputs": [],
   "source": [
    "if 10 in x:\n",
    "    x.remove(10)"
   ]
  },
  {
   "cell_type": "code",
   "execution_count": 35,
   "metadata": {},
   "outputs": [
    {
     "data": {
      "text/plain": [
       "[12, 12, 22, 13, 14, 88, 74, 1, 2, 3]"
      ]
     },
     "execution_count": 35,
     "metadata": {},
     "output_type": "execute_result"
    }
   ],
   "source": [
    "x.pop(3)\n",
    "x"
   ]
  },
  {
   "cell_type": "code",
   "execution_count": 47,
   "metadata": {},
   "outputs": [
    {
     "name": "stdout",
     "output_type": "stream",
     "text": [
      "[]\n"
     ]
    }
   ],
   "source": [
    "x.clear()\n",
    "print(x)"
   ]
  },
  {
   "cell_type": "code",
   "execution_count": 48,
   "metadata": {},
   "outputs": [],
   "source": [
    "names=['sam','alex','bob','carl','david','jojo','kate']"
   ]
  },
  {
   "cell_type": "code",
   "execution_count": 49,
   "metadata": {},
   "outputs": [
    {
     "name": "stdout",
     "output_type": "stream",
     "text": [
      "['kate', 'jojo', 'david', 'carl', 'bob', 'alex', 'sam']\n"
     ]
    }
   ],
   "source": [
    "names.reverse()\n",
    "print(names)"
   ]
  },
  {
   "cell_type": "code",
   "execution_count": 50,
   "metadata": {},
   "outputs": [
    {
     "name": "stdout",
     "output_type": "stream",
     "text": [
      "['alex', 'bob', 'carl', 'david', 'jojo', 'kate', 'sam']\n"
     ]
    }
   ],
   "source": [
    "names.sort()\n",
    "print(names)"
   ]
  },
  {
   "cell_type": "code",
   "execution_count": 51,
   "metadata": {},
   "outputs": [
    {
     "name": "stdout",
     "output_type": "stream",
     "text": [
      "[1, 1, 2, 2, 3, 3, 4, 5]\n",
      "['a', 'b', 'x', 'z']\n"
     ]
    }
   ],
   "source": [
    "x=[1,2,3,4,5,1,2,3]\n",
    "y=['a','x','z','b']\n",
    "z=[1,2,'a','b'] ##mixed type cannot be sorted\n",
    "x.sort()\n",
    "print(x)\n",
    "y.sort()\n",
    "print(y)"
   ]
  },
  {
   "cell_type": "markdown",
   "metadata": {},
   "source": [
    "z.sort()# this will show error bcz z is mixed list\n",
    "print(z)"
   ]
  },
  {
   "cell_type": "markdown",
   "metadata": {},
   "source": [
    "list with user input(basic)"
   ]
  },
  {
   "cell_type": "code",
   "execution_count": 52,
   "metadata": {},
   "outputs": [
    {
     "name": "stdout",
     "output_type": "stream",
     "text": [
      "['sunday', 'monday ', 'tuesday ', 'wednesday', 'thursday ', 'friday']\n"
     ]
    }
   ],
   "source": [
    "days=[]\n",
    "for i in range(6):\n",
    "    a=input(\"names of days:\")\n",
    "    days.append(a)\n",
    "print(days)"
   ]
  },
  {
   "cell_type": "markdown",
   "metadata": {},
   "source": [
    "list with user input(advance)"
   ]
  },
  {
   "cell_type": "code",
   "execution_count": 10,
   "metadata": {},
   "outputs": [
    {
     "name": "stdout",
     "output_type": "stream",
     "text": [
      "[1, 2, 8, 4, 5, 6, 9, 10]\n"
     ]
    }
   ],
   "source": [
    "num=list(map(int,input().split()))\n",
    "print(num)"
   ]
  },
  {
   "cell_type": "code",
   "execution_count": 8,
   "metadata": {},
   "outputs": [
    {
     "name": "stdout",
     "output_type": "stream",
     "text": [
      "['apple', 'banana', 'mango']\n"
     ]
    }
   ],
   "source": [
    "word=input().split()\n",
    "print(word)"
   ]
  }
 ],
 "metadata": {
  "interpreter": {
   "hash": "816f45b546eae5bbf2fd8d3d45281fbb237d113c2a41c07e189defbc74931249"
  },
  "kernelspec": {
   "display_name": "Python 3.9.5 ('base')",
   "language": "python",
   "name": "python3"
  },
  "language_info": {
   "codemirror_mode": {
    "name": "ipython",
    "version": 3
   },
   "file_extension": ".py",
   "mimetype": "text/x-python",
   "name": "python",
   "nbconvert_exporter": "python",
   "pygments_lexer": "ipython3",
   "version": "3.9.5"
  },
  "orig_nbformat": 4
 },
 "nbformat": 4,
 "nbformat_minor": 2
}
