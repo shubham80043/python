{
 "cells": [
  {
   "cell_type": "code",
   "execution_count": 2,
   "metadata": {},
   "outputs": [
    {
     "data": {
      "text/plain": [
       "32"
      ]
     },
     "execution_count": 2,
     "metadata": {},
     "output_type": "execute_result"
    }
   ],
   "source": [
    "a_lot_of_numbers=[2,3,4,5,78,54,62,28,7,8,90,54,73,34,54,56,85,91,28,82,63,14,64,99,88,77,44,55,66,11,22,33]\n",
    "len(a_lot_of_numbers)"
   ]
  },
  {
   "cell_type": "markdown",
   "metadata": {},
   "source": [
    "task 1->to add 5 to each element of the list and give a new list.\n",
    "\n",
    "task 2->to filter out number that are divisible by 3 and give a new list"
   ]
  },
  {
   "cell_type": "markdown",
   "metadata": {},
   "source": [
    "basic python programmer version"
   ]
  },
  {
   "cell_type": "code",
   "execution_count": 4,
   "metadata": {},
   "outputs": [],
   "source": [
    "output=[]  #new list\n",
    "for num in a_lot_of_numbers: #loop through the list\n",
    "    v=num+5 #add 5 toeach number\n",
    "    output.append(v)  #append the new value to the list"
   ]
  },
  {
   "cell_type": "markdown",
   "metadata": {},
   "source": [
    "better version /pythonic version"
   ]
  },
  {
   "cell_type": "code",
   "execution_count": 9,
   "metadata": {},
   "outputs": [],
   "source": [
    "output_v2= [num+5 for num in a_lot_of_numbers]"
   ]
  },
  {
   "cell_type": "code",
   "execution_count": 10,
   "metadata": {},
   "outputs": [
    {
     "name": "stdout",
     "output_type": "stream",
     "text": [
      "[2, 3, 4, 5, 78, 54, 62, 28, 7, 8, 90, 54, 73, 34, 54, 56, 85, 91, 28, 82, 63, 14, 64, 99, 88, 77, 44, 55, 66, 11, 22, 33]\n",
      "[7, 8, 9, 10, 83, 59, 67, 33, 12, 13, 95, 59, 78, 39, 59, 61, 90, 96, 33, 87, 68, 19, 69, 104, 93, 82, 49, 60, 71, 16, 27, 38]\n",
      "[7, 8, 9, 10, 83, 59, 67, 33, 12, 13, 95, 59, 78, 39, 59, 61, 90, 96, 33, 87, 68, 19, 69, 104, 93, 82, 49, 60, 71, 16, 27, 38]\n"
     ]
    }
   ],
   "source": [
    "print(a_lot_of_numbers)\n",
    "print(output)\n",
    "print(output_v2)"
   ]
  },
  {
   "cell_type": "markdown",
   "metadata": {},
   "source": [
    "##non pythonic version of task 2"
   ]
  },
  {
   "cell_type": "code",
   "execution_count": 13,
   "metadata": {},
   "outputs": [],
   "source": [
    "out3=[]\n",
    "for i in a_lot_of_numbers: #loop\n",
    "    if i%3==0:  #condition\n",
    "        out3.append(i) #operation"
   ]
  },
  {
   "cell_type": "code",
   "execution_count": 17,
   "metadata": {},
   "outputs": [],
   "source": [
    "out3_v2=[i for i in a_lot_of_numbers if i%3==0]"
   ]
  },
  {
   "cell_type": "code",
   "execution_count": 18,
   "metadata": {},
   "outputs": [
    {
     "name": "stdout",
     "output_type": "stream",
     "text": [
      "[2, 3, 4, 5, 78, 54, 62, 28, 7, 8, 90, 54, 73, 34, 54, 56, 85, 91, 28, 82, 63, 14, 64, 99, 88, 77, 44, 55, 66, 11, 22, 33]\n",
      "[3, 78, 54, 90, 54, 54, 63, 99, 66, 33]\n",
      "[3, 78, 54, 90, 54, 54, 63, 99, 66, 33]\n"
     ]
    }
   ],
   "source": [
    "print(a_lot_of_numbers)\n",
    "print(out3)\n",
    "print(out3_v2)"
   ]
  },
  {
   "cell_type": "code",
   "execution_count": 21,
   "metadata": {},
   "outputs": [
    {
     "name": "stdout",
     "output_type": "stream",
     "text": [
      "[12, 14, 88, 64, 72, 38, 18, 100, 64, 44, 64, 66, 38, 92, 24, 74, 98, 54, 76, 32]\n"
     ]
    }
   ],
   "source": [
    "###task3-> add 10 to all number that are divisible by 2 and give a new list\n",
    "\n",
    "output3=[]\n",
    "for e in a_lot_of_numbers:\n",
    "    if e%2==0:\n",
    "        e=e+10\n",
    "        output3.append(e)\n",
    "print(output3)"
   ]
  },
  {
   "cell_type": "code",
   "execution_count": 26,
   "metadata": {},
   "outputs": [
    {
     "name": "stdout",
     "output_type": "stream",
     "text": [
      "[12, 14, 88, 64, 72, 38, 18, 100, 64, 44, 64, 66, 38, 92, 24, 74, 98, 54, 76, 32]\n"
     ]
    }
   ],
   "source": [
    "output3=[e+10 for e in a_lot_of_numbers if e%2==0 ]\n",
    "print(output3)"
   ]
  },
  {
   "cell_type": "code",
   "execution_count": 28,
   "metadata": {},
   "outputs": [],
   "source": [
    "x=(1,2,3,4,5,6)"
   ]
  },
  {
   "cell_type": "code",
   "execution_count": 29,
   "metadata": {},
   "outputs": [
    {
     "name": "stdout",
     "output_type": "stream",
     "text": [
      "(1, 2, 3, 4, 5, 6)\n",
      "{1, 4, 36, 9, 16, 25}\n"
     ]
    }
   ],
   "source": [
    "x2={i**2 for i in x}\n",
    "print(x)\n",
    "print(x2)"
   ]
  },
  {
   "cell_type": "markdown",
   "metadata": {},
   "source": [
    "creating a dictionary using comprehension"
   ]
  },
  {
   "cell_type": "code",
   "execution_count": 27,
   "metadata": {},
   "outputs": [
    {
     "name": "stdout",
     "output_type": "stream",
     "text": [
      "{2: 4, 3: 6, 4: 8, 5: 10, 78: 156, 54: 108, 62: 124, 28: 56, 7: 14, 8: 16, 90: 180, 73: 146, 34: 68, 56: 112, 85: 170, 91: 182, 82: 164, 63: 126, 14: 28, 64: 128, 99: 198, 88: 176, 77: 154, 44: 88, 55: 110, 66: 132, 11: 22, 22: 44, 33: 66}\n"
     ]
    }
   ],
   "source": [
    "data={i:i*2 for i in a_lot_of_numbers}\n",
    "print(data)"
   ]
  },
  {
   "cell_type": "code",
   "execution_count": null,
   "metadata": {},
   "outputs": [],
   "source": []
  }
 ],
 "metadata": {
  "interpreter": {
   "hash": "816f45b546eae5bbf2fd8d3d45281fbb237d113c2a41c07e189defbc74931249"
  },
  "kernelspec": {
   "display_name": "Python 3.9.5 ('base')",
   "language": "python",
   "name": "python3"
  },
  "language_info": {
   "codemirror_mode": {
    "name": "ipython",
    "version": 3
   },
   "file_extension": ".py",
   "mimetype": "text/x-python",
   "name": "python",
   "nbconvert_exporter": "python",
   "pygments_lexer": "ipython3",
   "version": "3.9.5"
  },
  "orig_nbformat": 4
 },
 "nbformat": 4,
 "nbformat_minor": 2
}
